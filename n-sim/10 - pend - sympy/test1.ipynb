{
 "cells": [
  {
   "cell_type": "code",
   "execution_count": 2,
   "metadata": {},
   "outputs": [
    {
     "name": "stdout",
     "output_type": "stream",
     "text": [
      "pygame 2.6.0 (SDL 2.28.4, Python 3.11.0)\n",
      "Hello from the pygame community. https://www.pygame.org/contribute.html\n"
     ]
    }
   ],
   "source": [
    "import pygame as pg\n",
    "import pygame.draw as dw\n",
    "import numpy as np\n",
    "from PIL import Image\n",
    "import matplotlib.pyplot as plt\n",
    "import sympy as smp"
   ]
  },
  {
   "cell_type": "markdown",
   "metadata": {},
   "source": [
    "# SYMPY\n",
    "O código abaixo resolve analiticamente as eqs de Euler-Lagrange.\n",
    "\n",
    "No final temos as equaçõs que descrevem o sistema. Se considerarmos $l$ constante, ficamos com as equações do costume. O que obtemos ao resolver em função de $\\dot l,\\ddot l, \\dot\\theta,\\ddot\\theta$ é aquilo que colocamos no RK4."
   ]
  },
  {
   "cell_type": "code",
   "execution_count": 68,
   "metadata": {},
   "outputs": [
    {
     "data": {
      "text/latex": [
       "$\\displaystyle \\frac{1.0 g \\sin{\\left(\\theta{\\left(t \\right)} \\right)} - 2.0 \\frac{d}{d t} l{\\left(t \\right)} \\frac{d}{d t} \\theta{\\left(t \\right)}}{l{\\left(t \\right)}}$"
      ],
      "text/plain": [
       "(1.0*g*sin(theta(t)) - 2.0*Derivative(l(t), t)*Derivative(theta(t), t))/l(t)"
      ]
     },
     "execution_count": 68,
     "metadata": {},
     "output_type": "execute_result"
    }
   ],
   "source": [
    "x, y, t, m, g = smp.symbols('x y t m g') # t é tempo\n",
    "th, l = smp.symbols('theta l', cls=smp.Function)\n",
    "th = th(t)\n",
    "dth = smp.diff(th, t)\n",
    "dth2 = smp.diff(dth, t)\n",
    "l = l(t)\n",
    "dl = smp.diff(l, t)\n",
    "dl2 = smp.diff(dl, t)\n",
    "\n",
    "\n",
    "x = l*smp.sin(th)\n",
    "y = l*smp.cos(th)\n",
    "dx = smp.diff(x,t)\n",
    "dy = smp.diff(y,t)\n",
    "\n",
    "T = 0.5*m*(dx**2 + dy**2)\n",
    "U = m*g*y\n",
    "L = T - U\n",
    "\n",
    "# eq angulo\n",
    "EL1 = smp.diff(L,th) - smp.diff(smp.diff(L,dth),t)\n",
    "EL2 = smp.diff(L,l) - smp.diff(smp.diff(L,dl),t)\n",
    "\n",
    "# resolver\n",
    "sols = smp.solve([EL1,EL2], (dl2, dth2))\n",
    "sols[dl2].simplify()\n",
    "sols[dth2].simplify()\n"
   ]
  },
  {
   "cell_type": "markdown",
   "metadata": {},
   "source": [
    "# RK4\n",
    "Do tipo\n",
    "$$\\frac{dr}{dt} = f(x, t)$$\n",
    "\n",
    "Para uma eq de movimento podemos ter $\\frac{d^2\\vec r}{dt^2}=f(\\vec r,\\frac{d\\vec r}{dt}, t)$, que podemos resolver como:\n",
    "$$\\begin{cases}\n",
    "\\frac{d\\vec r}{dt}=\\vec v\\\\\n",
    "\\frac{d\\vec v}{dt}= f(\\vec r,\\vec v,t)\n",
    "\\end{cases}$$"
   ]
  },
  {
   "cell_type": "code",
   "execution_count": null,
   "metadata": {},
   "outputs": [],
   "source": [
    "# Aqui, a forma como se coloca r na função f() depende completamente de como f está definida e funciona\n",
    "\n",
    "def RK4_2var(f, xi, yi, a, b, N):\n",
    "    x, y = np.zeros(N), np.zeros(N)\n",
    "    x[0] = xi\n",
    "    y[0] = yi\n",
    "    r = np.array([x,y]).T # transposta para cada linha ser um ponto (x,y)\n",
    "    h = (b-a)/N\n",
    "    t = np.linspace(a,b,N)\n",
    "    for i in range(1, N):\n",
    "        k1 = h * f(*r[i-1], t[i-1])\n",
    "        k2 = h * f(*r[i-1] + 0.5*k1, t[i-1] + 0.5*h)\n",
    "        k3 = h * f(*r[i-1] + 0.5*k2, t[i-1] + 0.5*h)\n",
    "        k4 = h * f(*r[i-1] + k3, t[i-1] + h)\n",
    "\n",
    "        r[i] = r[i-1] + 1/6*(k1 + 2*k2 + 2*k3 + k4)\n",
    "    \n",
    "    return (r.T), t"
   ]
  },
  {
   "cell_type": "markdown",
   "metadata": {},
   "source": [
    "# Pêndulo Simples obtido com sympy ($\\theta$ e $\\ell$ variaveis)"
   ]
  },
  {
   "cell_type": "code",
   "execution_count": 82,
   "metadata": {},
   "outputs": [],
   "source": [
    "comps = []\n",
    "\n",
    "def animate():\n",
    "    L = 1000\n",
    "    disp = pg.display.set_mode((L,L), pg.RESIZABLE)\n",
    "    pg.display.set_caption(\"Teste #1\")\n",
    "    clk = pg.time.Clock()\n",
    "    FPS = 60\n",
    "\n",
    "    # centro e raio de circulo\n",
    "    C = np.array([L/2,L/2])\n",
    "    dw.circle(disp, (255,255,255), C, 10, 0)\n",
    "\n",
    "    # bola\n",
    "    R = L/100\n",
    "    r = C + np.array([L/15,0])\n",
    "    comp = np.linalg.norm(r-C)\n",
    "    th = np.arctan2((r-C)[0], (r-C)[1])\n",
    "    # v = np.array([0,-1])\n",
    "    # al = np.arctan2(v[0], v[1])\n",
    "    # phi = np.pi/2 - al - th\n",
    "    # om = np.linalg.norm(v) * np.cos(phi) / comp\n",
    "    sol = np.array([th, 0, comp, 0])\n",
    "\n",
    "\n",
    "    colorTraj = [100,100,100]\n",
    "    points = [(r[0],r[1])]\n",
    "\n",
    "    m = -1 # massa (kg)\n",
    "    \n",
    "    N = 500\n",
    "    dt = 200/N\n",
    "    e = 0.5\n",
    "    g = 10\n",
    "\n",
    "    def f(th, dth, l, dl, t):\n",
    "        dth2 = (g*np.sin(th)-2*dl*dth)/l\n",
    "        dl2 = -g*np.cos(th) + l*dth**2\n",
    "        return np.array([dth, dth2, dl, dl2], float)\n",
    "        \n",
    "\n",
    "    for i in range(N):\n",
    "        for event in pg.event.get():\n",
    "            if event.type == pg.QUIT:\n",
    "                return None\n",
    "            if event.type == pg.VIDEORESIZE:\n",
    "                disp = pg.display.set_mode((event.w, event.h),pg.RESIZABLE)\n",
    "                L = np.min([event.h, event.w])\n",
    "        disp.fill((0,0,0)) # refresh fundo da pagina\n",
    "\n",
    "        dw.circle(disp, (255,255,255), C, 10, 0)\n",
    "        \n",
    "        t = i*dt\n",
    "        k1 = dt * f(*sol, t)\n",
    "        k2 = dt * f(*sol + 0.5*k1, t + 0.5*dt)\n",
    "        k3 = dt * f(*sol + 0.5*k2, t + 0.5*dt)\n",
    "        k4 = dt * f(*sol + k3, t + dt)\n",
    "\n",
    "        sol = sol + 1/6*(k1 + 2*k2 + 2*k3 + k4)\n",
    "        comps.append(sol[2])\n",
    "        r = C.copy()\n",
    "        r[0] += sol[2] * np.sin(sol[0])\n",
    "        r[1] -= sol[2] * np.cos(sol[0])\n",
    "\n",
    "        points.append((r[0],r[1]))\n",
    "        if i % 3 == 0: # 0,3,6,9 \n",
    "            if colorTraj[0] + 2 > 255: colorTraj[0] = 0\n",
    "            colorTraj[0] += 2\n",
    "        if i-1 % 3 == 0: # 1,4,7,10\n",
    "            if colorTraj[1] + 4 > 255: colorTraj[1] = 0\n",
    "            colorTraj[1] += 4\n",
    "        if i-2 % 3 == 0: # 2,5,8,11\n",
    "            if colorTraj[2] - 2 < 0: colorTraj[2] = 255\n",
    "            colorTraj[2] -= 2\n",
    "        dw.lines(disp, colorTraj, False, points, 2)\n",
    "\n",
    "        dw.circle(disp, (255,255,255), r, R, 0)\n",
    "        dw.line(disp, (255,255,255), C, r)\n",
    "\n",
    "        pg.display.update()\n",
    "        clk.tick(FPS)\n",
    "\n",
    "animate()\n",
    "pg.quit()\n",
    "\n"
   ]
  }
 ],
 "metadata": {
  "kernelspec": {
   "display_name": "computacional",
   "language": "python",
   "name": "python3"
  },
  "language_info": {
   "codemirror_mode": {
    "name": "ipython",
    "version": 3
   },
   "file_extension": ".py",
   "mimetype": "text/x-python",
   "name": "python",
   "nbconvert_exporter": "python",
   "pygments_lexer": "ipython3",
   "version": "3.11.0"
  }
 },
 "nbformat": 4,
 "nbformat_minor": 2
}
