{
 "cells": [
  {
   "cell_type": "code",
   "execution_count": 1,
   "metadata": {},
   "outputs": [
    {
     "name": "stdout",
     "output_type": "stream",
     "text": [
      "pygame 2.6.0 (SDL 2.28.4, Python 3.11.0)\n",
      "Hello from the pygame community. https://www.pygame.org/contribute.html\n"
     ]
    }
   ],
   "source": [
    "import pygame as pg\n",
    "import pygame.draw as dw\n",
    "import numpy as np\n",
    "from PIL import Image\n",
    "import matplotlib.pyplot as plt\n",
    "from scipy.sparse import diags\n",
    "import scipy.sparse as sps\n",
    "import scipy.sparse.linalg as spla"
   ]
  },
  {
   "cell_type": "code",
   "execution_count": null,
   "metadata": {},
   "outputs": [],
   "source": [
    "def cn1DRob_V(xx, tt, F, cr, ci, V):\n",
    "    Nx = len(xx)\n",
    "    Nt = len(tt)\n",
    "    u = np.zeros((Nt,Nx))\n",
    "    u1 = np.zeros((Nt,Nx))\n",
    "    dx = abs(xx[0]-xx[1])\n",
    "    dt = abs(tt[0]-tt[1])\n",
    "    cMat = np.zeros(Nx)\n",
    "    \n",
    "    # matriz coeficientes\n",
    "    A = sps.csr_matrix(diags([-F/2,1+F+0.5j*V*dt/hbar,-F/2], [-1, 0, 1], shape=(Nx, Nx)))\n",
    "    B = sps.csr_matrix(diags([F/2,1-F-0.5j*V*dt/hbar,F/2], [-1, 0, 1], shape=(Nx, Nx)))\n",
    "    # cf - dirichlet\n",
    "    A[0,0]=1\n",
    "    A[0,1]=0\n",
    "    A[-1,-1]=1\n",
    "    A[-1,-2]=0\n",
    "    \n",
    "    #ci\n",
    "    u=ci.copy()\n",
    "    for i in range(Nt-1):\n",
    "        u1 = spla.spsolve(A,B.dot(u)-cMat*F)\n",
    "        # cf - dirichlet pt 2\n",
    "        u1[0] = cr[0][2]/cr[0][0]\n",
    "        u1[-1] = cr[1][2]/cr[1][0]\n",
    "        u = u1.copy()\n",
    "    return u/np.linalg.norm(u)"
   ]
  },
  {
   "cell_type": "markdown",
   "metadata": {},
   "source": [
    "# ESDT - Pot Harmonico"
   ]
  },
  {
   "cell_type": "code",
   "execution_count": 67,
   "metadata": {},
   "outputs": [],
   "source": [
    "def animate():\n",
    "    L = 1000\n",
    "    disp = pg.display.set_mode((L,L), pg.RESIZABLE)\n",
    "    pg.display.set_caption(\"Teste #1\")\n",
    "    clk = pg.time.Clock()\n",
    "    FPS = 60\n",
    "\n",
    "    def cn1DRob_V(xx, tt, F, cr, ci, V):\n",
    "        Nx = len(xx)\n",
    "        Nt = len(tt)\n",
    "        u = np.zeros((Nt,Nx))\n",
    "        u1 = np.zeros((Nt,Nx))\n",
    "        dx = abs(xx[0]-xx[1])\n",
    "        dt = abs(tt[0]-tt[1])\n",
    "        cMat = np.zeros(Nx)\n",
    "        \n",
    "        # matriz coeficientes\n",
    "        A = sps.csr_matrix(diags([-F/2,1+F+0.5j*V*dt/hbar,-F/2], [-1, 0, 1], shape=(Nx, Nx)))\n",
    "        B = sps.csr_matrix(diags([F/2,1-F-0.5j*V*dt/hbar,F/2], [-1, 0, 1], shape=(Nx, Nx)))\n",
    "        # cf - dirichlet\n",
    "        A[0,0]=1\n",
    "        A[0,1]=0\n",
    "        A[-1,-1]=1\n",
    "        A[-1,-2]=0\n",
    "        \n",
    "        #ci\n",
    "        u=ci.copy()\n",
    "        for i in range(Nt-1):\n",
    "            u1 = spla.spsolve(A,B.dot(u)-cMat*F)\n",
    "            # cf - dirichlet pt 2\n",
    "            u1[0] = cr[0][2]/cr[0][0]\n",
    "            u1[-1] = cr[1][2]/cr[1][0]\n",
    "            u = u1.copy()\n",
    "        return u/np.linalg.norm(u)\n",
    "    \n",
    "    for i in range(len(tf)):\n",
    "        for event in pg.event.get():\n",
    "            if event.type == pg.QUIT:\n",
    "                return None\n",
    "            if event.type == pg.VIDEORESIZE:\n",
    "                disp = pg.display.set_mode((event.w, event.h),pg.RESIZABLE)\n",
    "                L = np.min([event.h, event.w])\n",
    "                yL = 0.75*L\n",
    "        disp.fill((0,0,0)) # refresh fundo da pagina\n",
    "\n",
    "        xx = np.linspace(-10,10,L)\n",
    "        dx = abs(xx[1]-xx[0])\n",
    "        ci = np.sin(4*np.pi*xx) \n",
    "        # ci = np.exp(-(xx-2)**2*3)\n",
    "        ci = ci/np.linalg.norm(np.abs(ci))\n",
    "        hbar = 6.58e-16 # eV s\n",
    "        me = 9.11e-31 # kg\n",
    "\n",
    "        V = np.where(xx>0,100000,0)\n",
    "        # V = np.exp(-xx**2/10)*50\n",
    "        \n",
    "        tt = np.linspace(0,tf[i],200)\n",
    "        dt = tt[1]-tt[0]\n",
    "        F = 1j*hbar/(2*me)*dt/dx**2\n",
    "        u = np.real(cn1DRob_V(xx, tt, F, [[1,0,0],[1,0,0]], ci, V))\n",
    "        \n",
    "        # print(list(zip(xx,u)))\n",
    "        xline = (xx - xx[0]) * L/(xx[-1] - xx[0])\n",
    "        u = u/np.max(u)*L/10 + L/2\n",
    "        dw.lines(disp, (255,255,255), False, list(zip(xline,u)), 2)\n",
    "        pg.display.update()\n",
    "        clk.tick(FPS)\n",
    "        x3 = pg.surfarray.pixels3d(disp)\n",
    "        array = np.uint8(x3)\n",
    "        im = Image.fromarray(array)\n",
    "        im = im.save(f'./photos/{i:04d}.png', 'PNG')\n",
    "\n",
    "\n",
    "tf = np.linspace(0, 1e-16, 200)[1:]\n",
    "animate()\n",
    "pg.quit()\n",
    "\n"
   ]
  }
 ],
 "metadata": {
  "kernelspec": {
   "display_name": "computacional",
   "language": "python",
   "name": "python3"
  },
  "language_info": {
   "codemirror_mode": {
    "name": "ipython",
    "version": 3
   },
   "file_extension": ".py",
   "mimetype": "text/x-python",
   "name": "python",
   "nbconvert_exporter": "python",
   "pygments_lexer": "ipython3",
   "version": "3.11.0"
  }
 },
 "nbformat": 4,
 "nbformat_minor": 2
}
