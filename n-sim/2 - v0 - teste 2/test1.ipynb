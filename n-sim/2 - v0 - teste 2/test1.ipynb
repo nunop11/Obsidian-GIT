{
 "cells": [
  {
   "cell_type": "code",
   "execution_count": 3,
   "metadata": {},
   "outputs": [
    {
     "name": "stdout",
     "output_type": "stream",
     "text": [
      "pygame 2.6.0 (SDL 2.28.4, Python 3.11.0)\n",
      "Hello from the pygame community. https://www.pygame.org/contribute.html\n"
     ]
    }
   ],
   "source": [
    "import pygame as pg\n",
    "import pygame.draw as dw\n",
    "import numpy as np\n",
    "from PIL import Image\n",
    "import matplotlib.pyplot as plt"
   ]
  },
  {
   "cell_type": "code",
   "execution_count": 4,
   "metadata": {},
   "outputs": [
    {
     "name": "stdout",
     "output_type": "stream",
     "text": [
      "[0. 0. 0. 1. 1. 0. 0. 0. 0. 0.]\n",
      "3\n"
     ]
    }
   ],
   "source": [
    "arr = np.zeros(10)\n",
    "arr[3] = 1\n",
    "arr[4] = 1\n",
    "print(arr)\n",
    "i = np.where(arr==1)\n",
    "print(np.min(i[0]))"
   ]
  },
  {
   "cell_type": "code",
   "execution_count": 5,
   "metadata": {},
   "outputs": [
    {
     "data": {
      "text/plain": [
       "<matplotlib.image.AxesImage at 0x24f5f75d7d0>"
      ]
     },
     "execution_count": 5,
     "metadata": {},
     "output_type": "execute_result"
    },
    {
     "data": {
      "image/png": "[encoded data removed]",
      "text/plain": [
       "<Figure size 640x480 with 1 Axes>"
      ]
     },
     "metadata": {},
     "output_type": "display_data"
    }
   ],
   "source": [
    "arr = np.zeros((20,20))\n",
    "arr[:,8] = 1\n",
    "plt.imshow(arr)"
   ]
  },
  {
   "cell_type": "code",
   "execution_count": 4,
   "metadata": {},
   "outputs": [
    {
     "name": "stderr",
     "output_type": "stream",
     "text": [
      "C:\\Users\\nunop\\AppData\\Local\\Temp\\ipykernel_20908\\419127519.py:96: RuntimeWarning: invalid value encountered in scalar divide\n",
      "  al = np.arccos(np.dot(n,v)/(np.linalg.norm(n)*np.linalg.norm(v)))\n"
     ]
    },
    {
     "ename": "KeyboardInterrupt",
     "evalue": "",
     "output_type": "error",
     "traceback": [
      "\u001b[1;31m---------------------------------------------------------------------------\u001b[0m",
      "\u001b[1;31mKeyboardInterrupt\u001b[0m                         Traceback (most recent call last)",
      "Cell \u001b[1;32mIn[4], line 121\u001b[0m\n\u001b[0;32m    117\u001b[0m         im \u001b[38;5;241m=\u001b[39m Image\u001b[38;5;241m.\u001b[39mfromarray(array)\n\u001b[0;32m    118\u001b[0m         im \u001b[38;5;241m=\u001b[39m im\u001b[38;5;241m.\u001b[39msave(\u001b[38;5;124mf\u001b[39m\u001b[38;5;124m'\u001b[39m\u001b[38;5;124mC:/Users/nunop/Desktop/funCode/test1/photos/\u001b[39m\u001b[38;5;132;01m{\u001b[39;00mi\u001b[38;5;132;01m:\u001b[39;00m\u001b[38;5;124m04d\u001b[39m\u001b[38;5;132;01m}\u001b[39;00m\u001b[38;5;124m.png\u001b[39m\u001b[38;5;124m'\u001b[39m, \u001b[38;5;124m'\u001b[39m\u001b[38;5;124mPNG\u001b[39m\u001b[38;5;124m'\u001b[39m)\n\u001b[1;32m--> 121\u001b[0m animate()\n\u001b[0;32m    122\u001b[0m pg\u001b[38;5;241m.\u001b[39mquit()\n",
      "Cell \u001b[1;32mIn[4], line 107\u001b[0m, in \u001b[0;36manimate\u001b[1;34m()\u001b[0m\n\u001b[0;32m    105\u001b[0m     \u001b[38;5;28;01melse\u001b[39;00m:\n\u001b[0;32m    106\u001b[0m         v[\u001b[38;5;241m1\u001b[39m] \u001b[38;5;241m=\u001b[39m vv\u001b[38;5;241m*\u001b[39mnp\u001b[38;5;241m.\u001b[39msqrt(e)\u001b[38;5;241m*\u001b[39m(\u001b[38;5;241m-\u001b[39mnp\u001b[38;5;241m.\u001b[39msin(al\u001b[38;5;241m-\u001b[39mphi))\n\u001b[1;32m--> 107\u001b[0m     vecOut \u001b[38;5;241m=\u001b[39m out(n, mask, r)\n\u001b[0;32m    108\u001b[0m     r \u001b[38;5;241m=\u001b[39m r \u001b[38;5;241m+\u001b[39m vecOut   \n\u001b[0;32m    110\u001b[0m points\u001b[38;5;241m.\u001b[39mappend((r[\u001b[38;5;241m0\u001b[39m],r[\u001b[38;5;241m1\u001b[39m]))\n",
      "Cell \u001b[1;32mIn[4], line 38\u001b[0m, in \u001b[0;36mout\u001b[1;34m(n, mask, r)\u001b[0m\n\u001b[0;32m     36\u001b[0m \u001b[38;5;28;01mdef\u001b[39;00m \u001b[38;5;21mout\u001b[39m(n, mask, r):\n\u001b[0;32m     37\u001b[0m     vec \u001b[38;5;241m=\u001b[39m r\u001b[38;5;241m.\u001b[39mcopy()\n\u001b[1;32m---> 38\u001b[0m     \u001b[38;5;28;01mwhile\u001b[39;00m mask[\u001b[38;5;28mint\u001b[39m(vec[\u001b[38;5;241m1\u001b[39m]), \u001b[38;5;28mint\u001b[39m(vec[\u001b[38;5;241m0\u001b[39m])] \u001b[38;5;241m!=\u001b[39m \u001b[38;5;241m0\u001b[39m:\n\u001b[0;32m     39\u001b[0m         vec \u001b[38;5;241m+\u001b[39m\u001b[38;5;241m=\u001b[39m n\n\u001b[0;32m     40\u001b[0m     \u001b[38;5;28;01mreturn\u001b[39;00m vec\u001b[38;5;241m-\u001b[39mr\n",
      "\u001b[1;31mKeyboardInterrupt\u001b[0m: "
     ]
    }
   ],
   "source": [
    "import pygame as pg\n",
    "import pygame.draw as dw\n",
    "import numpy as np\n",
    "from PIL import Image\n",
    "import matplotlib.pyplot as plt\n",
    "pg.init()\n",
    "\n",
    "n = 25\n",
    "\n",
    "def maskLine(ini):\n",
    "    mask = ini.copy().T\n",
    "    for i in range(mask.shape[1]):\n",
    "        iOne = np.min(np.where(mask[:,i] != 0)[0])\n",
    "        mask[iOne:,i] = 1 # mask é 1 quando estamos num espaço proibido\n",
    "    return mask\n",
    "\n",
    "def findNormal(mask, y, x):\n",
    "    neighbors = mask[y-n:y+2*n:n, x-n:x+2*n:n]\n",
    "    # matrizes sobel\n",
    "    sobel_x = np.array([[-1, 0, 1], [-2, 0, 2], [-1, 0, 1]])\n",
    "    sobel_y = np.array([[-1, -2, -1], [0, 0, 0], [1, 2, 1]])\n",
    "\n",
    "    # gradientes\n",
    "    gx = np.sum(sobel_x * neighbors)\n",
    "    gy = np.sum(sobel_y * neighbors)\n",
    "\n",
    "    # vetor normal é paralelo ao gradiente\n",
    "    normal = np.array([gx, gy])\n",
    "    normal_magnitude = np.linalg.norm(normal)\n",
    "    \n",
    "    if normal_magnitude == 0:\n",
    "        return np.array([0, 0])\n",
    "    else:\n",
    "        return -normal / normal_magnitude\n",
    "\n",
    "def out(n, mask, r):\n",
    "    vec = r.copy()\n",
    "    while mask[int(vec[1]), int(vec[0])] != 0:\n",
    "        vec += n\n",
    "    return vec-r\n",
    "\n",
    "\n",
    "def animate():\n",
    "    L = 1000\n",
    "    disp = pg.display.set_mode((L,L), pg.RESIZABLE)\n",
    "    pg.display.set_caption(\"Teste #1\")\n",
    "    clk = pg.time.Clock()\n",
    "    FPS = 60\n",
    "\n",
    "    yL = 0.75*L\n",
    "    R = L/100\n",
    "    r = np.array([R,yL-R])\n",
    "    v = np.array([100,-100])\n",
    "    dw.line(disp, (255,255,255), (0,yL), (L,L-yL), 5)\n",
    "\n",
    "    x3 = pg.surfarray.pixels3d(disp)\n",
    "    ini = np.uint8(x3)[:,:,0]\n",
    "    mask = maskLine(ini)\n",
    "    dw.circle(disp, (255,255,255), (r[0], r[1]), R, 0)\n",
    "    a = np.array([0,-10]) \n",
    "\n",
    "    points = [(r[0],r[1])]\n",
    "\n",
    "    m = 1 # massa (kg)\n",
    "    \n",
    "    N = 300\n",
    "    dt = 200/N\n",
    "    \n",
    "    e = 1\n",
    "\n",
    "    for i in range(N):\n",
    "        for event in pg.event.get():\n",
    "            if event.type == pg.QUIT:\n",
    "                return None\n",
    "            if event.type == pg.VIDEORESIZE:\n",
    "                disp = pg.display.set_mode((event.w, event.h),pg.RESIZABLE)\n",
    "                L = np.min([event.h, event.w])\n",
    "                yL = 0.75*L\n",
    "        disp.fill((0,0,0)) # refresh fundo da pagina\n",
    "\n",
    "        dw.line(disp, (255,255,255), (0,yL), (L,L-yL), 5)\n",
    "        v = v - a*dt\n",
    "        # na formula normal é +0.5at^2, mas no pygame o (0,0) é em cima!\n",
    "        r0 = r.copy()\n",
    "        r = r0 + v*dt - 0.5*a*dt*dt\n",
    "\n",
    "        if int(r[0]) <= R or int(r[0]) >= L-R :\n",
    "            v[0] *= -1\n",
    "            r[0] *= -1\n",
    "        if int(r[1]) <= R or int(r[1]) >= L-R :\n",
    "            v[1] *= -1\n",
    "            r[1] *= -1     \n",
    "        if mask[int(r[1]), int(r[0])] == 1: # em r[] estou a usar [x,y], mas o array numpy mask usa [y,x] !\n",
    "            n = findNormal(mask, int(r[1]), int(r[0]))\n",
    "            phi = np.arctan2(v[1],v[0]) # angulo entre xx e trajetoria\n",
    "            al = np.arccos(np.dot(n,v)/(np.linalg.norm(n)*np.linalg.norm(v)))\n",
    "            vn = v * n\n",
    "            vv = np.linalg.norm(v)\n",
    "            if np.cos(al-phi) == 0:\n",
    "                v[0] = vv*np.sqrt(e)*np.cos(phi)\n",
    "            else:\n",
    "                v[0] = vv*np.sqrt(e)*np.cos(al-phi)\n",
    "            if np.sin(al-phi) == 0:\n",
    "                v[1] = vv*np.sqrt(e)*np.sin(phi)\n",
    "            else:\n",
    "                v[1] = vv*np.sqrt(e)*(-np.sin(al-phi))\n",
    "            vecOut = out(n, mask, r)\n",
    "            r = r + vecOut   \n",
    "            \n",
    "        points.append((r[0],r[1]))\n",
    "        dw.lines(disp, (100,100,100), False, points, 2)\n",
    "        dw.circle(disp, (255,255,255), (r[0], r[1]), R, 0)\n",
    "        pg.display.update()\n",
    "        clk.tick(FPS)\n",
    "        x3 = pg.surfarray.pixels3d(disp)\n",
    "        array = np.uint8(x3)\n",
    "        im = Image.fromarray(array)\n",
    "        im = im.save(f'C:/Users/nunop/Desktop/funCode/test1/photos/{i:04d}.png', 'PNG')\n",
    "\n",
    "\n",
    "animate()\n",
    "pg.quit()\n",
    "\n"
   ]
  }
 ],
 "metadata": {
  "kernelspec": {
   "display_name": "computacional",
   "language": "python",
   "name": "python3"
  },
  "language_info": {
   "codemirror_mode": {
    "name": "ipython",
    "version": 3
   },
   "file_extension": ".py",
   "mimetype": "text/x-python",
   "name": "python",
   "nbconvert_exporter": "python",
   "pygments_lexer": "ipython3",
   "version": "3.11.0"
  }
 },
 "nbformat": 4,
 "nbformat_minor": 2
}
